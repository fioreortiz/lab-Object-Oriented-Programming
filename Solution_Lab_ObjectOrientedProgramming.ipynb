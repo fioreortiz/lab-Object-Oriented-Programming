{
 "cells": [
  {
   "cell_type": "markdown",
   "id": "fadb3964",
   "metadata": {},
   "source": [
    "### Lab | Object Oriented Programming"
   ]
  },
  {
   "cell_type": "markdown",
   "id": "c46e67d0",
   "metadata": {},
   "source": [
    "#### Crete a Python Tv class with a constructor and the following attributes:"
   ]
  },
  {
   "cell_type": "markdown",
   "id": "7c4285f5",
   "metadata": {},
   "source": [
    ".on (Boolean)\n",
    "\n",
    ".volume (float in [0,100])\n",
    "\n",
    ".active_channel (int in [1,10])\n",
    "\n",
    ".input (str in [\"Anthena\", \"HDMI1\", \"HDMI2\", \"HDMI3\"])\n",
    "\n",
    ".size (float in [42, 50, 55, 65, 75])"
   ]
  },
  {
   "cell_type": "markdown",
   "id": "320ba048",
   "metadata": {},
   "source": [
    "#### Methods"
   ]
  },
  {
   "cell_type": "markdown",
   "id": "e40561dc",
   "metadata": {},
   "source": [
    ".switch_on()\n",
    "\n",
    ".switch_off()\n",
    "\n",
    ".set_volume(volume: int)\n",
    "\n",
    ".change_channel(channel: int)\n",
    "\n",
    ".set_input(value: str)"
   ]
  },
  {
   "cell_type": "code",
   "execution_count": 1,
   "id": "3e1d36e5",
   "metadata": {},
   "outputs": [],
   "source": [
    "class Tv:\n",
    "    def __init__(self, on, volume, active_channel, input_source, size):\n",
    "        self.on = on\n",
    "        self.volume = volume\n",
    "        self.active_channel = active_channel\n",
    "        self.input_source = input_source\n",
    "        self.size = size\n",
    "        \n",
    "        self.switch_on() if on == 'on' else self.switch_off()\n",
    "        self.set_volume(volume)\n",
    "        self.change_channel(active_channel)\n",
    "        self.set_input(input_source)\n",
    "        self.set_size(size)\n",
    "\n",
    "    def switch_on(self):\n",
    "        self.on = True\n",
    "\n",
    "    def switch_off(self):\n",
    "        self.on = False\n",
    "\n",
    "    def set_volume(self, volume):\n",
    "        if 0 <= volume <= 100:\n",
    "            self.volume = volume\n",
    "        else:\n",
    "            print(\"Volume value should be between 0 and 100.\")\n",
    "\n",
    "    def change_channel(self, channel):\n",
    "        if 1 <= channel <= 10:\n",
    "            self.active_channel = channel\n",
    "        else:\n",
    "            print(\"Channel value should be between 1 and 10.\")\n",
    "\n",
    "    def set_input(self, value):\n",
    "        valid_inputs = [\"Anthena\", \"HDMI1\", \"HDMI2\", \"HDMI3\"]\n",
    "        if value in valid_inputs:\n",
    "            self.input_source = value\n",
    "        else:\n",
    "            print(\"Invalid input. Valid inputs are:\", valid_inputs)\n",
    "\n",
    "    def set_size(self, size):\n",
    "        valid_sizes = [42, 50, 55, 65, 75]\n",
    "        if size in valid_sizes:\n",
    "            self.size = size\n",
    "        else:\n",
    "            print(\"Invalid size. Valid sizes are:\", valid_sizes)\n"
   ]
  },
  {
   "cell_type": "code",
   "execution_count": 2,
   "id": "0c3e0c83",
   "metadata": {
    "scrolled": false
   },
   "outputs": [
    {
     "name": "stdout",
     "output_type": "stream",
     "text": [
      "Volume value should be between 0 and 100.\n",
      "Invalid size. Valid sizes are: [42, 50, 55, 65, 75]\n",
      "Channel value should be between 1 and 10.\n",
      "Invalid input. Valid inputs are: ['Anthena', 'HDMI1', 'HDMI2', 'HDMI3']\n"
     ]
    }
   ],
   "source": [
    "my_tv1 = Tv('on', 101, 9, \"HDMI1\", 58) \n",
    "my_tv2 = Tv('off', 89, 11, \"Anthena\", 42)\n",
    "my_tv3 = Tv('on', 50, 10, \"Anthe\", 65)"
   ]
  },
  {
   "cell_type": "code",
   "execution_count": 3,
   "id": "3349b7d1",
   "metadata": {},
   "outputs": [
    {
     "data": {
      "text/plain": [
       "True"
      ]
     },
     "execution_count": 3,
     "metadata": {},
     "output_type": "execute_result"
    }
   ],
   "source": [
    "my_tv1.on"
   ]
  },
  {
   "cell_type": "code",
   "execution_count": 4,
   "id": "4f37e527",
   "metadata": {},
   "outputs": [
    {
     "ename": "AttributeError",
     "evalue": "'Tv' object has no attribute 'off'",
     "output_type": "error",
     "traceback": [
      "\u001b[0;31m---------------------------------------------------------------------------\u001b[0m",
      "\u001b[0;31mAttributeError\u001b[0m                            Traceback (most recent call last)",
      "\u001b[0;32m/var/folders/xk/7bvp3vv975g8gc_ykn02znwm0000gn/T/ipykernel_73341/2611987015.py\u001b[0m in \u001b[0;36m<module>\u001b[0;34m\u001b[0m\n\u001b[0;32m----> 1\u001b[0;31m \u001b[0mmy_tv1\u001b[0m\u001b[0;34m.\u001b[0m\u001b[0moff\u001b[0m\u001b[0;34m\u001b[0m\u001b[0;34m\u001b[0m\u001b[0m\n\u001b[0m",
      "\u001b[0;31mAttributeError\u001b[0m: 'Tv' object has no attribute 'off'"
     ]
    }
   ],
   "source": [
    "my_tv1.off\n",
    "#In this case how the attribute is not in the class, appears the message error."
   ]
  },
  {
   "cell_type": "code",
   "execution_count": 5,
   "id": "d8acd8f4",
   "metadata": {},
   "outputs": [
    {
     "data": {
      "text/plain": [
       "101"
      ]
     },
     "execution_count": 5,
     "metadata": {},
     "output_type": "execute_result"
    }
   ],
   "source": [
    "my_tv1.volume"
   ]
  },
  {
   "cell_type": "code",
   "execution_count": 6,
   "id": "4d0cab4c",
   "metadata": {},
   "outputs": [
    {
     "data": {
      "text/plain": [
       "9"
      ]
     },
     "execution_count": 6,
     "metadata": {},
     "output_type": "execute_result"
    }
   ],
   "source": [
    "my_tv1.active_channel"
   ]
  },
  {
   "cell_type": "code",
   "execution_count": 7,
   "id": "a9d3dda9",
   "metadata": {},
   "outputs": [
    {
     "data": {
      "text/plain": [
       "'HDMI1'"
      ]
     },
     "execution_count": 7,
     "metadata": {},
     "output_type": "execute_result"
    }
   ],
   "source": [
    "my_tv1.input_source"
   ]
  },
  {
   "cell_type": "code",
   "execution_count": 8,
   "id": "d8f9dc37",
   "metadata": {},
   "outputs": [
    {
     "data": {
      "text/plain": [
       "58"
      ]
     },
     "execution_count": 8,
     "metadata": {},
     "output_type": "execute_result"
    }
   ],
   "source": [
    "my_tv1.size"
   ]
  },
  {
   "cell_type": "code",
   "execution_count": 9,
   "id": "04e59c25",
   "metadata": {},
   "outputs": [
    {
     "data": {
      "text/plain": [
       "False"
      ]
     },
     "execution_count": 9,
     "metadata": {},
     "output_type": "execute_result"
    }
   ],
   "source": [
    "my_tv2.on"
   ]
  },
  {
   "cell_type": "code",
   "execution_count": 10,
   "id": "fdd088ac",
   "metadata": {},
   "outputs": [
    {
     "data": {
      "text/plain": [
       "89"
      ]
     },
     "execution_count": 10,
     "metadata": {},
     "output_type": "execute_result"
    }
   ],
   "source": [
    "my_tv2.volume"
   ]
  },
  {
   "cell_type": "code",
   "execution_count": 11,
   "id": "ad4eaa3e",
   "metadata": {},
   "outputs": [
    {
     "data": {
      "text/plain": [
       "11"
      ]
     },
     "execution_count": 11,
     "metadata": {},
     "output_type": "execute_result"
    }
   ],
   "source": [
    "my_tv2.active_channel"
   ]
  },
  {
   "cell_type": "code",
   "execution_count": 12,
   "id": "92bb77e1",
   "metadata": {},
   "outputs": [
    {
     "data": {
      "text/plain": [
       "'Anthena'"
      ]
     },
     "execution_count": 12,
     "metadata": {},
     "output_type": "execute_result"
    }
   ],
   "source": [
    "my_tv2.input_source"
   ]
  },
  {
   "cell_type": "code",
   "execution_count": 13,
   "id": "d4bd3a32",
   "metadata": {},
   "outputs": [
    {
     "data": {
      "text/plain": [
       "42"
      ]
     },
     "execution_count": 13,
     "metadata": {},
     "output_type": "execute_result"
    }
   ],
   "source": [
    "my_tv2.size"
   ]
  },
  {
   "cell_type": "code",
   "execution_count": 14,
   "id": "df988014",
   "metadata": {},
   "outputs": [
    {
     "data": {
      "text/plain": [
       "'Anthe'"
      ]
     },
     "execution_count": 14,
     "metadata": {},
     "output_type": "execute_result"
    }
   ],
   "source": [
    "my_tv3.input_source"
   ]
  },
  {
   "cell_type": "markdown",
   "id": "62899d0d",
   "metadata": {},
   "source": [
    "My intention was that the message when the condition is not met would appear after calling the attribute, but no matter how hard I tried I couldn't find a way to do it. The messages appear when the attributes of each class are listed, but when the attribute is called it returns it even if the condition is not met."
   ]
  },
  {
   "cell_type": "code",
   "execution_count": null,
   "id": "66bf122a",
   "metadata": {},
   "outputs": [],
   "source": []
  }
 ],
 "metadata": {
  "celltoolbar": "Raw Cell Format",
  "kernelspec": {
   "display_name": "Python 3 (ipykernel)",
   "language": "python",
   "name": "python3"
  },
  "language_info": {
   "codemirror_mode": {
    "name": "ipython",
    "version": 3
   },
   "file_extension": ".py",
   "mimetype": "text/x-python",
   "name": "python",
   "nbconvert_exporter": "python",
   "pygments_lexer": "ipython3",
   "version": "3.9.13"
  }
 },
 "nbformat": 4,
 "nbformat_minor": 5
}
